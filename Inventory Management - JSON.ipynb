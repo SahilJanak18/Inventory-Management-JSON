{
 "cells": [
  {
   "cell_type": "code",
   "execution_count": 11,
   "id": "94185852",
   "metadata": {},
   "outputs": [],
   "source": [
    "record={1:{'name':'onigiri','price':100,'qn':150 },\n",
    "        2:{'name':'lemonpan','price':75,'qn':100},\n",
    "        3:{'name':'doraya','price':50,'qn':75},\n",
    "        4:{'name':'calpis','price':75,'qn':120}\n",
    "       }"
   ]
  },
  {
   "cell_type": "code",
   "execution_count": 12,
   "id": "0485883a",
   "metadata": {},
   "outputs": [
    {
     "data": {
      "text/plain": [
       "{1: {'name': 'onigiri', 'price': 100, 'qn': 150},\n",
       " 2: {'name': 'lemonpan', 'price': 75, 'qn': 100},\n",
       " 3: {'name': 'doraya', 'price': 50, 'qn': 75},\n",
       " 4: {'name': 'calpis', 'price': 75, 'qn': 120}}"
      ]
     },
     "execution_count": 12,
     "metadata": {},
     "output_type": "execute_result"
    }
   ],
   "source": [
    "record"
   ]
  },
  {
   "cell_type": "code",
   "execution_count": 13,
   "id": "03713632",
   "metadata": {},
   "outputs": [
    {
     "data": {
      "text/plain": [
       "{'name': 'onigiri', 'price': 100, 'qn': 150}"
      ]
     },
     "execution_count": 13,
     "metadata": {},
     "output_type": "execute_result"
    }
   ],
   "source": [
    "record[1]"
   ]
  },
  {
   "cell_type": "code",
   "execution_count": 14,
   "id": "772bb478",
   "metadata": {},
   "outputs": [
    {
     "data": {
      "text/plain": [
       "'lemonpan'"
      ]
     },
     "execution_count": 14,
     "metadata": {},
     "output_type": "execute_result"
    }
   ],
   "source": [
    "record[2]['name']"
   ]
  },
  {
   "cell_type": "code",
   "execution_count": 21,
   "id": "d90f17e5",
   "metadata": {},
   "outputs": [
    {
     "name": "stdout",
     "output_type": "stream",
     "text": [
      "------------MENU------------\n",
      "\n",
      "1 : onigiri | 100 Rs | 150\n",
      "2 : lemonpan | 75 Rs | 100\n",
      "3 : doraya | 50 Rs | 75\n",
      "4 : calpis | 75 Rs | 120\n",
      "-----------------------------\n",
      "\n",
      "Enter product id:2\n",
      "Enter the quantity:40\n",
      "------------BILL------------\n",
      "Name          : lemonpan\n",
      "Price         : 75 Rs\n",
      "Quantity      : 40\n",
      "------------------------------\n",
      "Billing amount: 3000 Rs\n",
      "------------------------------\n"
     ]
    }
   ],
   "source": [
    "import json #Importing json library\n",
    "\n",
    "record={1:{'name':'onigiri','price':100,'qn':150 },\n",
    "        2:{'name':'lemonpan','price':75,'qn':100},\n",
    "        3:{'name':'doraya','price':50,'qn':75},\n",
    "        4:{'name':'calpis','price':75,'qn':120}\n",
    "       }\n",
    "\n",
    "print(\"------------MENU------------\\n\")\n",
    "for key in record.keys(): #Iterting through the dictionary\n",
    "    print(key,\":\",record[key]['name'],\"|\",record[key]['price'],\"Rs |\",record[key]['qn'])\n",
    "print(\"-----------------------------\\n\")\n",
    "\n",
    "pro_id=int(input(\"Enter product id:\"))\n",
    "pro_qn=int(input(\"Enter the quantity:\"))\n",
    "record[pro_id]['qn']=record[pro_id]['qn']-pro_qn #Updating the quantity\n",
    "\n",
    "print(\"------------BILL------------\")\n",
    "print(\"Name          :\",record[pro_id]['name'])\n",
    "print(\"Price         :\",record[pro_id]['price'],'Rs')\n",
    "print(\"Quantity      :\",pro_qn)\n",
    "print(\"------------------------------\")\n",
    "print(\"Billing amount:\",record[pro_id]['price']*pro_qn,'Rs')\n",
    "print(\"------------------------------\")\n",
    "\n",
    "js=json.dumps(record) #Json.dumps converts the dictionary into string format\n",
    "\n",
    "fd=open('Records.JSON','w') #Writing the the converted dictionary into a text file\n",
    "fd.write(js)\n",
    "fd.close()\n"
   ]
  },
  {
   "cell_type": "code",
   "execution_count": 4,
   "id": "7ffdaead",
   "metadata": {},
   "outputs": [
    {
     "data": {
      "text/plain": [
       "{'1': {'name': 'onigiri', 'price': 100, 'qn': 130},\n",
       " '2': {'name': 'lemonpan', 'price': 75, 'qn': 58},\n",
       " '3': {'name': 'doraya', 'price': 50, 'qn': 75},\n",
       " '4': {'name': 'calpis', 'price': 75, 'qn': 120}}"
      ]
     },
     "execution_count": 4,
     "metadata": {},
     "output_type": "execute_result"
    }
   ],
   "source": [
    "json.loads(js)"
   ]
  },
  {
   "cell_type": "markdown",
   "id": "1c9149c9",
   "metadata": {},
   "source": [
    "## Using the updated file in real time"
   ]
  },
  {
   "cell_type": "code",
   "execution_count": 1,
   "id": "9ac6631f",
   "metadata": {},
   "outputs": [
    {
     "name": "stdout",
     "output_type": "stream",
     "text": [
      "------------MENU------------\n",
      "\n",
      "1 : onigiri | 100 Rs | 0\n",
      "2 : lemonpan | 75 Rs | 0\n",
      "3 : doraya | 50 Rs | 73\n",
      "4 : calpis | 75 Rs | 110\n",
      "-----------------------------\n",
      "\n",
      "Enter your name:sahil\n",
      "Enter your phone no.:678967759\n",
      "Enter your email id:sahil@gmail.com\n",
      "Enter product id:3\n",
      "Enter the quantity:5\n",
      "------------BILL------------\n",
      "Name          : doraya\n",
      "Price         : 50 Rs\n",
      "Quantity      : 5\n",
      "------------------------------\n",
      "Billing amount: 250 Rs\n",
      "----------Thank-You----------\n"
     ]
    }
   ],
   "source": [
    "import json #Importing json library\n",
    "import time #importing time library to save the time of the purchase\n",
    "\n",
    "sales='' #creating an empty string for sales\n",
    "\n",
    "fd=open('Records.json','r') #Open and read from the Records file\n",
    "js=fd.read()\n",
    "fd.close()\n",
    "\n",
    "record=json.loads(js) #json.loads converts string back to dictionary format\n",
    "\n",
    "#Displaying the menu\n",
    "print(\"------------MENU------------\\n\")\n",
    "for key in record.keys(): #Iterting through the dictionary\n",
    "    print(key,\":\",record[key]['name'],\"|\",record[key]['price'],\"Rs |\",record[key]['qn'])\n",
    "print(\"-----------------------------\\n\")\n",
    "\n",
    "#Taking user inputs\n",
    "u_name=input(\"Enter your name:\")\n",
    "u_ph=input(\"Enter your phone no.:\")\n",
    "u_email=input(\"Enter your email id:\")\n",
    "pro_id=str(input(\"Enter product id:\")) #converted it to string as json.loads will convert the key from int to string\n",
    "pro_qn=int(input(\"Enter the quantity:\"))\n",
    "\n",
    "if(pro_qn<=record[pro_id]['qn']):\n",
    "    \n",
    "    record[pro_id]['qn']=record[pro_id]['qn']-pro_qn #Updating the quantity\n",
    "    total= record[pro_id]['price']*pro_qn\n",
    "    \n",
    "    if(total>=2000): #if total is above 2000 then 500 discount provided  \n",
    "        \n",
    "        print(\"Since your bill is over 2000 Rs you are eligible for a 500 Rs discount.\",'\\n')\n",
    "        print('\\n')\n",
    "        print(\"------------BILL------------\")\n",
    "        print(\"Name          :\",record[pro_id]['name'])\n",
    "        print(\"Price         :\",record[pro_id]['price'],'Rs')\n",
    "        print(\"Quantity      :\",pro_qn)\n",
    "        print(\"------------------------------\")\n",
    "        print(\"Billing amount:\",(record[pro_id]['price']*pro_qn)-500,'Rs')\n",
    "        print(\"----------Thank-You----------\")\n",
    "        \n",
    "        sales=u_name+','+u_ph+','+u_email+','+pro_id+','+record[pro_id]['name']+','+str(pro_qn)+','+str(record[pro_id]['price'])+','+str(total-500)+','+time.ctime()+'\\n'\n",
    "    \n",
    "    else:\n",
    "        \n",
    "        print(\"------------BILL------------\")\n",
    "        print(\"Name          :\",record[pro_id]['name'])\n",
    "        print(\"Price         :\",record[pro_id]['price'],'Rs')\n",
    "        print(\"Quantity      :\",pro_qn)\n",
    "        print(\"------------------------------\")\n",
    "        print(\"Billing amount:\",record[pro_id]['price']*pro_qn,'Rs')\n",
    "        print(\"----------Thank-You----------\")\n",
    "\n",
    "        sales=u_name+','+u_ph+','+u_email+','+pro_id+','+record[pro_id]['name']+','+str(pro_qn)+','+str(record[pro_id]['price'])+','+str(record[pro_id]['price']*pro_qn)+','+time.ctime()+'\\n'\n",
    "\n",
    "        \n",
    "else:\n",
    "    print(\"Sorry we dont have enough quantity.\")\n",
    "    print(\"We only have\",record[pro_id]['qn'],'available')\n",
    "    ch=str(input(\"Would you like to purchase it? Press Y/N:\"))\n",
    "    print('\\n')\n",
    "    \n",
    "    if(ch=='Y'or ch=='y'):\n",
    "        \n",
    "        total=record[pro_id]['price']*record[pro_id]['qn']\n",
    "        \n",
    "        if(total>=2000): #if total is above 2000 then 500 discount provided\n",
    "            print(\"Since your bill is over 2000 Rs you are eligible for a 500 Rs discount.\",'\\n')\n",
    "            print('\\n')\n",
    "            print(\"------------BILL------------\")\n",
    "            print(\"Name          :\",record[pro_id]['name'])\n",
    "            print(\"Price         :\",record[pro_id]['price'],'Rs')\n",
    "            print(\"Quantity      :\",record[pro_id]['qn'])\n",
    "            print(\"------------------------------\")\n",
    "            print(\"Billing amount:\",(record[pro_id]['price']*record[pro_id]['qn'])-500,'Rs')\n",
    "            print(\"----------Thank-You----------\")\n",
    "\n",
    "            sales=u_name+','+u_ph+','+u_email+','+pro_id+','+record[pro_id]['name']+','+str(record[pro_id]['qn'])+','+str(record[pro_id]['price'])+','+str(total-500)+','+time.ctime()+'\\n'\n",
    "        else:\n",
    "            print(\"------------BILL------------\")\n",
    "            print(\"Name          :\",record[pro_id]['name'])\n",
    "            print(\"Price         :\",record[pro_id]['price'],'Rs')\n",
    "            print(\"Quantity      :\",record[pro_id]['qn'])\n",
    "            print(\"------------------------------\")\n",
    "            print(\"Billing amount:\",record[pro_id]['price']*record[pro_id]['qn'],'Rs')\n",
    "            print(\"----------Thank-You----------\")\n",
    "\n",
    "            sales=u_name+','+u_ph+','+u_email+','+pro_id+','+record[pro_id]['name']+','+str(record[pro_id]['qn'])+','+str(record[pro_id]['price'])+','+str(total)+','+time.ctime()+'\\n'\n",
    "        \n",
    "            \n",
    "        record[pro_id]['qn']=0 #Updating the quantity\n",
    "    else:\n",
    "        print(\"Sorry for the inconvinience.\")\n",
    "\n",
    "js=json.dumps(record) #Json.dumps converts the dictionary into string format\n",
    "\n",
    "fd=open('Records.JSON','w') #Writing the the converted dictionary into a JSON file\n",
    "fd.write(js)\n",
    "fd.close()\n",
    "\n",
    "fd=open('sales.txt','a') #Appending the sale details to the sale file\n",
    "fd.write(sales)\n",
    "fd.close()\n"
   ]
  },
  {
   "cell_type": "code",
   "execution_count": null,
   "id": "e017bf0d",
   "metadata": {},
   "outputs": [],
   "source": []
  }
 ],
 "metadata": {
  "kernelspec": {
   "display_name": "Python 3 (ipykernel)",
   "language": "python",
   "name": "python3"
  },
  "language_info": {
   "codemirror_mode": {
    "name": "ipython",
    "version": 3
   },
   "file_extension": ".py",
   "mimetype": "text/x-python",
   "name": "python",
   "nbconvert_exporter": "python",
   "pygments_lexer": "ipython3",
   "version": "3.9.13"
  }
 },
 "nbformat": 4,
 "nbformat_minor": 5
}
